{
    "cells": [
        {
            "cell_type": "markdown",
            "metadata": {},
            "source": "# IBM Data Science, Capstone Project\n\n## Analyzing Rental Property Capitalization Rates and Venues by Neighborhood of Selected Regions\n\n\n### Introduction\n\n(Web-Scraping, Foursquare API, Folium Map, Kmeans Clustering & Machine Learning)\n\nIn this exercise we will analyze housing and rent prices of the neighborhoods of Cambridge, MA.  We will make a comparison that is data driven to help investors gain insight in a manner of relative evaluation at the neighborhoods level.  We will calculate rental capitalization rates (cap rates) by taking the by-neighborhood average of recently sold homes prices and recently rented rent prices.  We will also look to develop an indicator of neighborhood rental desirability that is measured by the neighborhood's available venues within its close proximity.  Regression analysis of cap rates and clustered neighbors segmented by venue types and quantity will also be explored.\n\n#### Methods that will be used: \n\nWe will convert addresses into their equivalent latitude and longitude values. \n\nWe will use the Foursquare API to explore neighborhoods of selected regions. We'll use the explore function to get the most common venue categories in each neighborhood, and then use this feature to group the neighborhoods into clusters. We use the k-means clustering algorithm to complete this task. Finally, we use the Folium library to visualize the neighborhoods and their emerging clusters.\n\nWe will also look at recent MLS rental and home sale price to extrapolate capitalization rates by neighborhoods.  We will extract this data directly from MLS data base and import to a pandas data frame for analysis. (Another option would be to scrape data from Website such as Zillow or Redfin. We will decide on which is the better method as we approach this segment of the analysis.)\n\nOnce the data is formatted into a proper structure, we will explore and cluster various neighborhoods.  Ultimately we will create a mapping visualization tool to help bringing insight to investors whom would be interested in acquiring rental property in an unfamiliar region.  We will use folium to map cap rates and venues availability.  Cap rate will be the measure of profitability and Venues as comparison of neighborhood types and desirability by potential tenants.  That is, the more the venues that are accessible the more desirable a neighborhood to reside within.  We will also provide some regression analysis comparing neighborhood cap rates vs clustered neighborhood types to see if correlations exists.\n\n\n"
        },
        {
            "cell_type": "code",
            "execution_count": 11,
            "metadata": {},
            "outputs": [
                {
                    "name": "stdout",
                    "output_type": "stream",
                    "text": "Requirement already satisfied: geopy in /opt/conda/envs/Python36/lib/python3.6/site-packages (1.18.1)\nRequirement already satisfied: geographiclib<2,>=1.49 in /opt/conda/envs/Python36/lib/python3.6/site-packages (from geopy) (1.49)\n"
                }
            ],
            "source": "!pip install geopy"
        },
        {
            "cell_type": "code",
            "execution_count": 20,
            "metadata": {},
            "outputs": [],
            "source": "# The code was removed by Watson Studio for sharing."
        },
        {
            "cell_type": "code",
            "execution_count": 21,
            "metadata": {},
            "outputs": [
                {
                    "name": "stdout",
                    "output_type": "stream",
                    "text": "(42.3781523, -71.1444978)\n"
                }
            ],
            "source": "location = geolocator.geocode(\"Larchwood, MA\")\n\nprint((location.latitude, location.longitude))"
        },
        {
            "cell_type": "code",
            "execution_count": 22,
            "metadata": {},
            "outputs": [
                {
                    "name": "stdout",
                    "output_type": "stream",
                    "text": "(42.3734734, -71.1189431)\n"
                }
            ],
            "source": "location = geolocator.geocode(\"Harvard Square, MA\")\n\nprint((location.latitude, location.longitude))"
        }
    ],
    "metadata": {
        "kernelspec": {
            "display_name": "Python 3.6",
            "language": "python",
            "name": "python3"
        },
        "language_info": {
            "codemirror_mode": {
                "name": "ipython",
                "version": 3
            },
            "file_extension": ".py",
            "mimetype": "text/x-python",
            "name": "python",
            "nbconvert_exporter": "python",
            "pygments_lexer": "ipython3",
            "version": "3.6.9"
        }
    },
    "nbformat": 4,
    "nbformat_minor": 1
}